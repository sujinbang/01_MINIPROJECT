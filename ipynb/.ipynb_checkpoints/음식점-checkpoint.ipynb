{
 "cells": [
  {
   "cell_type": "markdown",
   "id": "60fdfd55-b5b0-410d-9b12-a1821e064686",
   "metadata": {
    "tags": []
   },
   "source": [
    "# 음식점 위치 정보"
   ]
  },
  {
   "cell_type": "code",
   "execution_count": null,
   "id": "af351388-9c41-480e-a124-1ebf683ee040",
   "metadata": {},
   "outputs": [],
   "source": [
    "import pandas as pd\n",
    "import numpy as np\n",
    "import matplotlib.pyplot as plt\n",
    "import seaborn as sns\n",
    "import folium\n",
    "import json\n",
    "import base64"
   ]
  },
  {
   "cell_type": "code",
   "execution_count": null,
   "id": "990238cf-5106-4c3d-9ca3-2eb98e034efd",
   "metadata": {},
   "outputs": [],
   "source": [
    "df_market = pd.read_csv('./files/음식테마거리.csv')\n",
    "df_market = df_market.dropna(subset=['지번주소'])\n",
    "df_market = df_market[['지번주소','식당명','영업신고증업태명']]\n",
    "#df_market.to_csv('음식테마거리_null제거.csv')"
   ]
  },
  {
   "cell_type": "code",
   "execution_count": null,
   "id": "ffdc10c7-ba20-4dff-8f6f-43b9494eef2b",
   "metadata": {},
   "outputs": [],
   "source": [
    "df = pd.read_csv('./files/음식테마거리_null제거.csv')\n",
    "df"
   ]
  },
  {
   "cell_type": "code",
   "execution_count": null,
   "id": "2a9acfc2-19a9-4337-80a9-81cd5a089563",
   "metadata": {},
   "outputs": [],
   "source": [
    "# split 및 for문으로 해결\n",
    "df = pd.read_csv('./files/음식테마거리.csv')\n",
    "df = df.dropna()\n",
    "list = []\n",
    "df['지번주소'].str.split(\" \")\n",
    "for i in df.index:\n",
    "    df_sigungu = df['지번주소'].str.split(\" \")[i][1]\n",
    "    list.append(df_sigungu)"
   ]
  },
  {
   "cell_type": "code",
   "execution_count": null,
   "id": "335f2e36-801d-44f8-933f-742a27b40f8d",
   "metadata": {},
   "outputs": [],
   "source": [
    "df_count = df.groupby('시군구').count()\n",
    "df_count"
   ]
  },
  {
   "cell_type": "code",
   "execution_count": null,
   "id": "89b80888-cd4d-4e4a-9098-412806acd597",
   "metadata": {},
   "outputs": [],
   "source": [
    "df_market = pd.read_excel('./files/부산_시군구_좌표.xlsx', usecols=[0,1,5,6])\n",
    "df_merge = pd.merge(df_count, df_market, how = 'left', on = '시군구')\n",
    "df_merge"
   ]
  },
  {
   "cell_type": "code",
   "execution_count": null,
   "id": "461c8830-fa34-4ac0-b06b-050815f1931a",
   "metadata": {
    "tags": []
   },
   "outputs": [],
   "source": [
    "df_count = df.groupby('시군구').count()\n",
    "df_market = pd.read_excel('./files/부산_시군구_좌표.xlsx', usecols=[0,1,5,6])\n",
    "df_merge = pd.merge(df_count, df_market, how = 'left', on = '시군구')\n",
    "df_merge = df_merge[['시군구', 'Unnamed: 0','위도','경도']]\n",
    "df_merge.sort_values('Unnamed: 0', ascending=False)\n",
    "\n",
    "df_merge = df_merge.reset_index()\n",
    "df_merge = df_merge.drop(columns='index')\n",
    "df_merge"
   ]
  },
  {
   "cell_type": "code",
   "execution_count": null,
   "id": "ad8b7f7c-fc60-4795-9876-dc105b9b8bd9",
   "metadata": {},
   "outputs": [],
   "source": [
    "#df_merge = df_merge.reset_index()"
   ]
  },
  {
   "cell_type": "code",
   "execution_count": null,
   "id": "d317d1f7-4c8c-421b-b27c-9f6c00dc8e0d",
   "metadata": {},
   "outputs": [],
   "source": [
    "import numpy as np\n",
    "import pandas as pd\n",
    "import folium\n",
    "import json\n",
    "\n",
    "import warnings\n",
    "\n",
    "warnings.filterwarnings(action='ignore')\n",
    "\n",
    "\n",
    "#한글깨짐 해결\n",
    "!pip3 install git+https://github.com/python-visualization/branca.git@master"
   ]
  },
  {
   "cell_type": "markdown",
   "id": "4228f122-b315-4d70-a41d-968363ac1e75",
   "metadata": {
    "tags": []
   },
   "source": [
    "# 음식테마거리 시각화"
   ]
  },
  {
   "cell_type": "code",
   "execution_count": null,
   "id": "6b8a2b66-7c02-47d6-86f4-2936b58b2472",
   "metadata": {},
   "outputs": [],
   "source": [
    "#세븐브릿지 좌표\n",
    "df_bridge = pd.read_csv('./files/좌표/세븐브릿지_좌표.txt')\n",
    "df_bridge.columns=['브릿지','위도','경도']\n",
    "\n",
    "#트래킹 좌표\n",
    "df_mountain = pd.read_csv('./files/좌표/5대트래킹_좌표.txt')\n",
    "df_mountain.columns=['트래킹','위도','경도']\n",
    "\n",
    "#해수욕장 좌표\n",
    "df_beach = pd.read_excel('./files/해수욕장좌표.xlsx')\n",
    "df_beach\n",
    "\n",
    "\n",
    "# 음식테마거리\n",
    "df_count = df.groupby('시군구').count()\n",
    "df_market = pd.read_excel('./files/부산_시군구_좌표.xlsx', usecols=[0,1,5,6])\n",
    "df_market = df_market.drop(0)\n",
    "df_merge = pd.merge(df_count, df_market, how = 'left', on = '시군구')\n",
    "df_merge = df_merge[['시군구', 'Unnamed: 0','위도','경도']]\n",
    "df_merge = df_merge.drop(6)\n",
    "    \n",
    "    \n",
    "# 부산 위경도 확인\n",
    "busan = folium.Map(\n",
    "    location = [35.159144, 129.048293],\n",
    "    tiles = \"CartoDB positron\",\n",
    "    zoom_start = 11\n",
    ")\n",
    "\n",
    "# 부산 geojson style 지정\n",
    "file_path = \"./maps/부산_시군구.geojson\"\n",
    "busan_sgg_get = json.load(open(file_path, encoding=\"utf-8\"))\n",
    "\n",
    "\n",
    "print(len(busan_sgg_get['features']))\n",
    "      \n",
    "for i in range (len(busan_sgg_get['features'])):\n",
    "    result = busan_sgg_get['features'][i]['properties']\n",
    "    print(result)\n",
    "\n",
    "\n",
    "def style_function(feature) :\n",
    "    df = {\n",
    "        \"opacity\" : 0.5,\n",
    "        \"weight\" : 0.6,\n",
    "        \"color\" : \"yellow\",\n",
    "        \"fillOpacity\" : 0.5\n",
    "    }\n",
    "    return df\n",
    "\n",
    "folium.GeoJson(\n",
    "    busan_sgg_get,\n",
    "    style_function = style_function\n",
    ").add_to(busan)\n",
    "\n",
    "\n",
    "tooltip = 'Click!'\n",
    "\n",
    "#지도에 세븐브릿지 표시\n",
    "for i in df_bridge.index:\n",
    "    \n",
    "    folium.Marker([df_bridge.loc[i, \"위도\"], df_bridge.loc[i, \"경도\"]],\n",
    "                popup=f'<div style=\"width:200px\"><strong>{df_bridge.iloc[i][\"브릿지\"]}</strong><br>\\\n",
    "                <img width=\"200px\" src = ./image/{i}_bridge.jpg></div>',\n",
    "                icon = folium.Icon(color='blue', icon='ok-circle'),\n",
    "                tooltip = tooltip).add_to(busan)\n",
    "    \n",
    "\n",
    "\n",
    "\n",
    "#지도에 트래킹 표시\n",
    "for j in range(len(df_mountain)):\n",
    "    \n",
    "    folium.Marker([df_mountain.loc[j, \"위도\"],df_mountain.loc[j, \"경도\"]],\n",
    "                 popup=f'<div style=\"width:200px\"><strong>{df_mountain.iloc[j][\"트래킹\"]}</strong><br>\\\n",
    "                 <img width=\"200px\" src = ./image/{j}_mountain.jpg></div>',\n",
    "                 icon = folium.Icon(color='green', icon='ok-circle'),\n",
    "              \n",
    "                 tooltip = tooltip\n",
    "                 ).add_to(busan)\n",
    "\n",
    "    \n",
    "#지도에 해수욕장 표시\n",
    "for i in df_bridge.index:\n",
    "    \n",
    "    folium.Marker([df_beach.loc[i, \"위도\"], df_beach.loc[i, \"경도\"]],\n",
    "                popup=f'<div style=\"width:200px\"><strong>{df_beach.iloc[i][\"해수욕장\"]}</strong><br>\\\n",
    "                <img width=\"200px\" src = ./image/{i}_beach.jpg></div>',\n",
    "                icon = folium.Icon(color='red', icon='ok-circle'),\n",
    "                \n",
    "                tooltip = tooltip).add_to(busan) \n",
    "\n",
    "\n",
    "\n",
    "#지도에 음식테마거리 표시\n",
    "for item in range(len(df_merge)):\n",
    "       \n",
    "    folium.CircleMarker([df_merge.iloc[item][\"위도\"], df_merge.iloc[item][\"경도\"]],\n",
    "                 color = 'green',\n",
    "                 fill = True,\n",
    "                 radius=df_merge.iloc[item]['Unnamed: 0']/150,\n",
    "                 popup=f'<div style=\"width:80px\"><strong>{df_merge.iloc[item][\"시군구\"]}</strong><br>\\\n",
    "                        개수 : {df_merge.iloc[item][\"Unnamed: 0\"]}</div>').add_to(busan)\n",
    "                    \n",
    "\n",
    "busan.save('index_food.html')"
   ]
  },
  {
   "cell_type": "code",
   "execution_count": null,
   "id": "28d8a834-0a14-4595-8b56-5df2945e088b",
   "metadata": {},
   "outputs": [],
   "source": [
    "df_merge.iloc[0][\"시군구\"]"
   ]
  },
  {
   "cell_type": "code",
   "execution_count": null,
   "id": "39c21534-7df1-47af-9bc2-f298d31ae206",
   "metadata": {},
   "outputs": [],
   "source": [
    "df_merge.index"
   ]
  },
  {
   "cell_type": "markdown",
   "id": "ef830964-b562-429c-8c9e-a7e48e8a9a04",
   "metadata": {
    "tags": []
   },
   "source": [
    "# 부산 음식테마거리 음식점 종류별 개수"
   ]
  },
  {
   "cell_type": "code",
   "execution_count": null,
   "id": "4220946b-7981-488d-8ba9-b4814d57c55c",
   "metadata": {},
   "outputs": [],
   "source": [
    "df_food = df.iloc[:,[2,3,4,5]]\n",
    "df_food_group = df_food.groupby('영업신고증업태명').count().iloc[:,[0]]\n",
    "df_food_count = df_food_group.sort_values('식당명', ascending=False)\n",
    "df_food_count = df_food_count.reset_index(drop=False)\n",
    "df_food_count.head(1)"
   ]
  },
  {
   "cell_type": "code",
   "execution_count": null,
   "id": "d720af44-d96f-4a34-9d28-2550fd80ab64",
   "metadata": {},
   "outputs": [],
   "source": [
    "#df_food_count = df_food_count.reset_index(drop=False)"
   ]
  },
  {
   "cell_type": "code",
   "execution_count": null,
   "id": "69fc1e9a-4beb-403a-93b5-04f31e2d83f3",
   "metadata": {},
   "outputs": [],
   "source": [
    "# Basic Bar Chart\n",
    "import matplotlib.pyplot as plt\n",
    "import seaborn as sns\n",
    "\n",
    "# 한글 폰트 설정\n",
    "plt.rcParams['font.family'] = 'Malgun Gothic'\n",
    "\n",
    "plt.figure(figsize=(15, 12))\n",
    "sns.countplot(y=df_food['영업신고증업태명'], order = df_food['영업신고증업태명'].value_counts().index)\n",
    "plt.yticks(fontsize=12)\n",
    "plt.title('부산시 업종별 개수')\n",
    "plt.show()"
   ]
  },
  {
   "cell_type": "markdown",
   "id": "75611c7e-2c7c-4026-a4c4-5b34e8609bb9",
   "metadata": {
    "tags": []
   },
   "source": [
    "# 부산 음식점 시군구별 개수"
   ]
  },
  {
   "cell_type": "code",
   "execution_count": null,
   "id": "69a8d766-bfc5-409a-8635-c7550e0bfbd7",
   "metadata": {},
   "outputs": [],
   "source": [
    "k = []\n",
    "for x in df_merge.index:\n",
    "    k.append(df_merge['시군구'][x])\n",
    "k"
   ]
  },
  {
   "cell_type": "code",
   "execution_count": null,
   "id": "c7bf6da5-fb43-40d3-8262-4030742021bc",
   "metadata": {
    "scrolled": true
   },
   "outputs": [],
   "source": [
    "import numpy as np\n",
    "# 그림 사이즈, 바 굵기 조정\n",
    "fig, ax = plt.subplots(figsize=(16,8))\n",
    "bar_width = 0.4 ## Figure 생성 \n",
    "fig.set_facecolor('white') ## Figure 배경색 지정\n",
    "plt.rc('font',family ='Malgun Gothic',size=15)\n",
    "#데이터넣기\n",
    "plt.title('부산 시군구별 음식점 개수')\n",
    "#plt.ylabel('전통시장 개수')\n",
    "index = np.arange(16)\n",
    "\n",
    "# 각 연도별로 3개 샵의 bar를 순서대로 나타내는 과정, 각 그래프는 0.25의 간격을 두고 그려짐\n",
    "plt.bar(index, df_merge['Unnamed: 0.1'], bar_width, alpha=0.4, color='red', label='음식점개수')\n",
    "\n",
    "plt.legend(loc=\"upper right\")\n",
    "\n",
    "# x축 위치를 정 가운데로 조정하고 x축의 텍스트\n",
    "# list = ['강서구','금정구','기장군','남구','동구','동래구','부산진구','북구','사상구','사하구','서구','수영구','연제구','영도구','중구','해운대구']\n",
    "# plt.xticks(list)\n",
    "plt.xticks([i for i in df_merge.index], k)"
   ]
  },
  {
   "cell_type": "code",
   "execution_count": null,
   "id": "621130e4-7ec8-4bbf-94eb-cfdb8f29a83c",
   "metadata": {},
   "outputs": [],
   "source": [
    "# pie 그래프\n",
    "import matplotlib.pyplot as plt\n",
    "fig, ax = plt.subplots(figsize=(16,8))\n",
    "bar_width = 0.4 ## Figure 생성 \n",
    "fig.set_facecolor('white') ## Figure 배경색 지정\n",
    "plt.rc('font',family ='Malgun Gothic',size=15)\n",
    "#데이터넣기\n",
    "plt.title('부산 시군구별 음식점 개수')\n",
    "# ratio = [34, 32, 16, 18]\n",
    "# labels = ['Apple', 'Banana', 'Melon', 'Grapes']\n",
    "# plt.bar(index, df_merge['Unnamed: 0.1'], bar_width, alpha=0.4, color='red', label='음식점개수')\n",
    "explode = [0.05, 0.05, 0.05, 0.05, 0.05, 0.05, 0.05, 0.05,0.05, 0.05, 0.05, 0.05, 0.05, 0.05, 0.05, 0.05]\n",
    "colors = ['silver', 'gold', 'whitesmoke', 'lightgray','lightgray','pink','pink','lightgray','lightgray','lightgray','lightgray','silver','lightgray','lightgray','lightgray','lightgray']\n",
    "\n",
    "plt.pie(df_merge['Unnamed: 0.1'], labels=k, autopct='%.1f%%', explode=explode, shadow=True, colors=colors)\n",
    "plt.show()"
   ]
  },
  {
   "cell_type": "code",
   "execution_count": null,
   "id": "88a560e5-8532-40ff-a0e8-560b79975d26",
   "metadata": {},
   "outputs": [],
   "source": [
    "df_merge"
   ]
  },
  {
   "cell_type": "code",
   "execution_count": null,
   "id": "54e8415f",
   "metadata": {},
   "outputs": [],
   "source": []
  }
 ],
 "metadata": {
  "kernelspec": {
   "display_name": "Python 3 (ipykernel)",
   "language": "python",
   "name": "python3"
  },
  "language_info": {
   "codemirror_mode": {
    "name": "ipython",
    "version": 3
   },
   "file_extension": ".py",
   "mimetype": "text/x-python",
   "name": "python",
   "nbconvert_exporter": "python",
   "pygments_lexer": "ipython3",
   "version": "3.9.12"
  }
 },
 "nbformat": 4,
 "nbformat_minor": 5
}
